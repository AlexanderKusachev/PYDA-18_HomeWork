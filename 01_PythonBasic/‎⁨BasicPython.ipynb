{
 "cells": [
  {
   "cell_type": "markdown",
   "metadata": {},
   "source": [
    "Домашнее задание к лекции \"Основы Python\"\n",
    "\n",
    "Задание 1\n",
    "Даны 2 переменных, в которых хранятся строки произвольной длины: phrase_1 и phrase_2.\n",
    "Напишите код, который проверяет какая из этих строк длиннее."
   ]
  },
  {
   "cell_type": "code",
   "execution_count": null,
   "metadata": {},
   "outputs": [],
   "source": [
    "phrase_1 = input (\"Введите Фразу 1 = \")\n",
    "phrase_2 = input (\"Введите Фразу 2 = \")\n",
    "\n",
    "if phrase_1 == phrase_2:\n",
    "   print (\"Фразы равной длины\")\n",
    "elif phrase_1 > phrase_2: \n",
    "   print (\"Фраза 1 длиннее Фразы 2\")\n",
    "else:\n",
    "   print (\"Фраза 2 длиннее Фразы 1\")"
   ]
  },
  {
   "cell_type": "markdown",
   "metadata": {},
   "source": [
    "Задание 2\n",
    "Дана переменная, в которой хранится четырехзначное число (год). \n",
    "Необходимо написать программу, которая выведет, является ли данный год високосным или обычным."
   ]
  },
  {
   "cell_type": "code",
   "execution_count": null,
   "metadata": {
    "scrolled": true
   },
   "outputs": [],
   "source": [
    "year = int(input (\"Введите год: \"))\n",
    "\n",
    "if year % 400 == 0 or year % 100 == 0 or year % 4 == 0:\n",
    "    print (\"Високосный год\")\n",
    "else:\n",
    "    print (\"Обычный год\")"
   ]
  },
  {
   "cell_type": "markdown",
   "metadata": {},
   "source": [
    "Задание 3\n",
    "Необходимо написать программу, которая будет запрашивать у пользователя месяц и дату рождения и выводить соответствующий знак зодиака."
   ]
  },
  {
   "cell_type": "code",
   "execution_count": null,
   "metadata": {
    "scrolled": true
   },
   "outputs": [],
   "source": [
    "day = int(input (\"Введите день: \"))\n",
    "month = input (\"Введите месяц: \")\n",
    "\n",
    "if 1 < day < 19 and month == (\"Январь\") or 22 < day < 31 and month == (\"Декабрь\"):\n",
    "     print(\"Ваш знак зодиака: Козерог\")\n",
    "\n",
    "if 1 < day < 19 and month == (\"Февраль\") or 20 < day < 31 and month == (\"Январь\"):\n",
    "     print(\"Ваш знак зодиака: Водолей\")\n",
    "\n",
    "if 1 < day < 21 and month == (\"Март\") or 20 < day < 28 and month == (\"Февраль\"):\n",
    "     print(\"Ваш знак зодиака: Рыбы\")\n",
    "\n",
    "if 1 < day < 21 and month == (\"Апрель\") or 22 < day < 31 and month == (\"Март\"):\n",
    "     print(\"Ваш знак зодиака: Овен\")\n",
    "\n",
    "if 1 < day < 21 and month == (\"Май\") or 22 < day < 30 and month == (\"Апрель\"):\n",
    "     print(\"Ваш знак зодиака: Телец\")\n",
    "\n",
    "if 1 < day < 21 and month == (\"Июнь\") or 22 < day < 31 and month == (\"Май\"):\n",
    "     print(\"Ваш знак зодиака: Близнецы\")\n",
    "\n",
    "if 1 < day < 21 and month == (\"Июль\") or 22 < day < 31 and month == (\"Июнь\"):\n",
    "     print(\"Ваш знак зодиака: Рак\")\n",
    "\n",
    "if 1 < day < 21 and month == (\"Август\") or 22 < day < 30 and month == (\"Июль\"):\n",
    "     print(\"Ваш знак зодиака: Лев\")\n",
    "\n",
    "if 1 < day < 21 and month == (\"Сентябрь\") or 21 < day < 31 and month == (\"Август\"):\n",
    "     print(\"Ваш знак зодиака: Дева\")\n",
    "\n",
    "if 1 < day < 21 and month == (\"Октябрь\") or 22 < day < 30 and month == (\"Сентябрь\"):\n",
    "     print(\"Ваш знак зодиака: Весы\")\n",
    "\n",
    "if 1 < day < 20 and month == (\"Ноябрь\") or 22 < day < 31 and month == (\"Октябрь\"):\n",
    "     print(\"Ваш знак зодиака: Скорпион\")\n",
    "\n",
    "if 1 < day < 21 and month == (\"Декабрь\") or 21 < day < 30 and month == (\"Ноябрь\"):\n",
    "     print(\"Ваш знак зодиака: Стрелец\")\n",
    "\n"
   ]
  },
  {
   "cell_type": "markdown",
   "metadata": {},
   "source": [
    "Задание 4\n",
    "Вам нужно написать программу для подбора упаковок по размерам товара. Размеры хранятся в переменных (в сантиметрах):\n",
    "\n",
    "width = 10\n",
    "length = 205\n",
    "height = 5\n",
    "Используйте следующие правила:\n",
    "\n",
    "если каждое из трех измерений менее 15 сантиметров, то выведите на экран “Коробка №1”;\n",
    "если хотя бы одно из измерений больше 15 сантиметров, но менее 50 сантиметров, то выводите “Коробка №2”;\n",
    "если длина товара больше 2 метров, то выводите “Упаковка для лыж”;\n",
    "во всех остальных случаях выводите “Стандартная коробка №3”."
   ]
  },
  {
   "cell_type": "code",
   "execution_count": null,
   "metadata": {
    "scrolled": true
   },
   "outputs": [],
   "source": [
    "width = int(input(\"Введите ширину упаковки: \"))\n",
    "length = int(input(\"Введите длину упаковки: \"))\n",
    "height = int(input(\"Введите высоту упаковки: \"))\n",
    "\n",
    "if width < 50 and 200 < length and height < 50:\n",
    " print ('Упаковка для лыж')\n",
    "elif width < 15 and length < 15 and height < 15:\n",
    " print (\"Коробка №1\")\n",
    "elif 15 < width < 50 or 15 < length < 50 or 15 < height < 50:\n",
    " print (\"Коробка №2\")\n",
    "else:\n",
    " print (\"Стандартная упаковка №3\")"
   ]
  }
 ],
 "metadata": {
  "kernelspec": {
   "display_name": "Python 3",
   "language": "python",
   "name": "python3"
  },
  "language_info": {
   "codemirror_mode": {
    "name": "ipython",
    "version": 3
   },
   "file_extension": ".py",
   "mimetype": "text/x-python",
   "name": "python",
   "nbconvert_exporter": "python",
   "pygments_lexer": "ipython3",
   "version": "3.8.5"
  }
 },
 "nbformat": 4,
 "nbformat_minor": 4
}
